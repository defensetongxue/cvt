{
 "cells": [
  {
   "cell_type": "code",
   "execution_count": 74,
   "metadata": {},
   "outputs": [],
   "source": [
    "import torchvision.models as models\n",
    "import torch\n",
    "import numpy as np\n",
    "import paddle\n",
    "from config_cvt.default import get_config\n",
    "from cvt import generate_model\n",
    "from cvt_torch import get_cls_model\n"
   ]
  },
  {
   "cell_type": "code",
   "execution_count": 75,
   "metadata": {},
   "outputs": [
    {
     "name": "stdout",
     "output_type": "stream",
     "text": [
      "merging config from ./config_cvt/config.yaml\n"
     ]
    }
   ],
   "source": [
    "\n",
    "config=get_config('./config_cvt/config.yaml')\n",
    "paddle_model = generate_model(config)\n",
    "paddle_model.eval()\n",
    "torch_model= get_cls_model(config)"
   ]
  },
  {
   "cell_type": "code",
   "execution_count": 76,
   "metadata": {},
   "outputs": [],
   "source": [
    "file_mapping=open('weight/mapping.txt', 'w' )\n",
    "file_torch=open('weight/torch.txt', 'w' )\n",
    "file_paddle=open('weight/paddle.txt', 'w')\n",
    "file_warning=open('weight/warning.txt','w')\n",
    "paddle_array=[]\n",
    "torch_array=[]\n",
    "for i,value in torch_model.state_dict().items():\n",
    "    torch_array.append((i,value.shape))\n",
    "    file_torch.write(i)\n",
    "    file_torch.write('\\n')\n",
    "\n",
    "for i,value in paddle_model.state_dict().items():\n",
    "    paddle_array.append((i,value.shape))\n",
    "    file_paddle.write(i)\n",
    "    file_paddle.write('\\n')"
   ]
  },
  {
   "cell_type": "code",
   "execution_count": 77,
   "metadata": {},
   "outputs": [
    {
     "name": "stdout",
     "output_type": "stream",
     "text": [
      "tt stage0.blocks.0.attn.conv_proj_q.bn.num_batches_tracked\n",
      "pp stage0.blocks.0.attn.conv_proj_k.0.weight\n",
      "tt stage0.blocks.0.attn.conv_proj_k.bn.num_batches_tracked\n",
      "pp stage0.blocks.0.attn.conv_proj_v.0.weight\n",
      "tt stage0.blocks.0.attn.conv_proj_v.bn.num_batches_tracked\n",
      "pp stage0.blocks.0.attn.proj_q.weight\n",
      "tt stage1.blocks.0.attn.conv_proj_q.bn.num_batches_tracked\n",
      "pp stage1.blocks.0.attn.conv_proj_k.0.weight\n",
      "tt stage1.blocks.0.attn.conv_proj_k.bn.num_batches_tracked\n",
      "pp stage1.blocks.0.attn.conv_proj_v.0.weight\n",
      "tt stage1.blocks.0.attn.conv_proj_v.bn.num_batches_tracked\n",
      "pp stage1.blocks.0.attn.proj_q.weight\n",
      "tt stage1.blocks.1.attn.conv_proj_q.bn.num_batches_tracked\n",
      "pp stage1.blocks.1.attn.conv_proj_k.0.weight\n",
      "tt stage1.blocks.1.attn.conv_proj_k.bn.num_batches_tracked\n",
      "pp stage1.blocks.1.attn.conv_proj_v.0.weight\n",
      "tt stage1.blocks.1.attn.conv_proj_v.bn.num_batches_tracked\n",
      "pp stage1.blocks.1.attn.proj_q.weight\n",
      "tt stage2.cls_token\n",
      "pp stage2.patch_embed.proj.weight\n",
      "tt stage2.blocks.0.attn.conv_proj_q.bn.num_batches_tracked\n",
      "pp stage2.blocks.0.attn.conv_proj_k.0.weight\n",
      "tt stage2.blocks.0.attn.conv_proj_k.bn.num_batches_tracked\n",
      "pp stage2.blocks.0.attn.conv_proj_v.0.weight\n",
      "tt stage2.blocks.0.attn.conv_proj_v.bn.num_batches_tracked\n",
      "pp stage2.blocks.0.attn.proj_q.weight\n",
      "tt stage2.blocks.1.attn.conv_proj_q.bn.num_batches_tracked\n",
      "pp stage2.blocks.1.attn.conv_proj_k.0.weight\n",
      "tt stage2.blocks.1.attn.conv_proj_k.bn.num_batches_tracked\n",
      "pp stage2.blocks.1.attn.conv_proj_v.0.weight\n",
      "tt stage2.blocks.1.attn.conv_proj_v.bn.num_batches_tracked\n",
      "pp stage2.blocks.1.attn.proj_q.weight\n",
      "tt stage2.blocks.2.attn.conv_proj_q.bn.num_batches_tracked\n",
      "pp stage2.blocks.2.attn.conv_proj_k.0.weight\n",
      "tt stage2.blocks.2.attn.conv_proj_k.bn.num_batches_tracked\n",
      "pp stage2.blocks.2.attn.conv_proj_v.0.weight\n",
      "tt stage2.blocks.2.attn.conv_proj_v.bn.num_batches_tracked\n",
      "pp stage2.blocks.2.attn.proj_q.weight\n",
      "tt stage2.blocks.3.attn.conv_proj_q.bn.num_batches_tracked\n",
      "pp stage2.blocks.3.attn.conv_proj_k.0.weight\n",
      "tt stage2.blocks.3.attn.conv_proj_k.bn.num_batches_tracked\n",
      "pp stage2.blocks.3.attn.conv_proj_v.0.weight\n",
      "tt stage2.blocks.3.attn.conv_proj_v.bn.num_batches_tracked\n",
      "pp stage2.blocks.3.attn.proj_q.weight\n",
      "tt stage2.blocks.4.attn.conv_proj_q.bn.num_batches_tracked\n",
      "pp stage2.blocks.4.attn.conv_proj_k.0.weight\n",
      "tt stage2.blocks.4.attn.conv_proj_k.bn.num_batches_tracked\n",
      "pp stage2.blocks.4.attn.conv_proj_v.0.weight\n",
      "tt stage2.blocks.4.attn.conv_proj_v.bn.num_batches_tracked\n",
      "pp stage2.blocks.4.attn.proj_q.weight\n",
      "tt stage2.blocks.5.attn.conv_proj_q.bn.num_batches_tracked\n",
      "pp stage2.blocks.5.attn.conv_proj_k.0.weight\n",
      "tt stage2.blocks.5.attn.conv_proj_k.bn.num_batches_tracked\n",
      "pp stage2.blocks.5.attn.conv_proj_v.0.weight\n",
      "tt stage2.blocks.5.attn.conv_proj_v.bn.num_batches_tracked\n",
      "pp stage2.blocks.5.attn.proj_q.weight\n",
      "tt stage2.blocks.6.attn.conv_proj_q.bn.num_batches_tracked\n",
      "pp stage2.blocks.6.attn.conv_proj_k.0.weight\n",
      "tt stage2.blocks.6.attn.conv_proj_k.bn.num_batches_tracked\n",
      "pp stage2.blocks.6.attn.conv_proj_v.0.weight\n",
      "tt stage2.blocks.6.attn.conv_proj_v.bn.num_batches_tracked\n",
      "pp stage2.blocks.6.attn.proj_q.weight\n",
      "tt stage2.blocks.7.attn.conv_proj_q.bn.num_batches_tracked\n",
      "pp stage2.blocks.7.attn.conv_proj_k.0.weight\n",
      "tt stage2.blocks.7.attn.conv_proj_k.bn.num_batches_tracked\n",
      "pp stage2.blocks.7.attn.conv_proj_v.0.weight\n",
      "tt stage2.blocks.7.attn.conv_proj_v.bn.num_batches_tracked\n",
      "pp stage2.blocks.7.attn.proj_q.weight\n",
      "tt stage2.blocks.8.attn.conv_proj_q.bn.num_batches_tracked\n",
      "pp stage2.blocks.8.attn.conv_proj_k.0.weight\n",
      "tt stage2.blocks.8.attn.conv_proj_k.bn.num_batches_tracked\n",
      "pp stage2.blocks.8.attn.conv_proj_v.0.weight\n",
      "tt stage2.blocks.8.attn.conv_proj_v.bn.num_batches_tracked\n",
      "pp stage2.blocks.8.attn.proj_q.weight\n",
      "tt stage2.blocks.9.attn.conv_proj_q.bn.num_batches_tracked\n",
      "pp stage2.blocks.9.attn.conv_proj_k.0.weight\n",
      "tt stage2.blocks.9.attn.conv_proj_k.bn.num_batches_tracked\n",
      "pp stage2.blocks.9.attn.conv_proj_v.0.weight\n",
      "tt stage2.blocks.9.attn.conv_proj_v.bn.num_batches_tracked\n",
      "pp stage2.blocks.9.attn.proj_q.weight\n"
     ]
    }
   ],
   "source": [
    "j=0\n",
    "mapping=[]\n",
    "warning=[]\n",
    "def equel(i,j):\n",
    "    x:str=torch_array[i][0]\n",
    "    y:str=paddle_array[j][0]\n",
    "    if x==y:\n",
    "        return True\n",
    "    x=x.replace('.bn.','.1.')\n",
    "    x=x.replace('.conv.','.0.')\n",
    "    x=x.replace('.running_mean','._mean')\n",
    "    x=x.replace('.running_var','._variance')\n",
    "    if x==y:\n",
    "        return True\n",
    "    else:\n",
    "        return False\n",
    "for i in range(len(torch_array)):\n",
    "    if equel(i,j):\n",
    "        mapping.append((torch_array[i][0],paddle_array[j][0]))\n",
    "        j+=1\n",
    "    else:\n",
    "        print('tt',torch_array[i][0])\n",
    "        print('pp',paddle_array[j][0])\n",
    "        continue\n",
    "for i in range(len(mapping)):\n",
    "    file_mapping.write(str(mapping[i]))\n",
    "    file_mapping.write('\\n')"
   ]
  }
 ],
 "metadata": {
  "interpreter": {
   "hash": "632b173250d16d6f9b5bd55f86a0e0c96b37a21df53bd488615da0bb1f86a5c6"
  },
  "kernelspec": {
   "display_name": "Python 3.7.11 64-bit ('cvt': conda)",
   "language": "python",
   "name": "python3"
  },
  "language_info": {
   "codemirror_mode": {
    "name": "ipython",
    "version": 3
   },
   "file_extension": ".py",
   "mimetype": "text/x-python",
   "name": "python",
   "nbconvert_exporter": "python",
   "pygments_lexer": "ipython3",
   "version": "3.7.11"
  },
  "orig_nbformat": 4
 },
 "nbformat": 4,
 "nbformat_minor": 2
}
