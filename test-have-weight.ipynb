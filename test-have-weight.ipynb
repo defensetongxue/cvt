{
 "cells": [
  {
   "cell_type": "code",
   "execution_count": 1,
   "metadata": {},
   "outputs": [
    {
     "name": "stdout",
     "output_type": "stream",
     "text": [
      "merging config from ./config_cvt/config.yaml\n"
     ]
    }
   ],
   "source": [
    "\n",
    "import numpy as np\n",
    "import paddle\n",
    "import torch\n",
    "import os\n",
    "from config_cvt.default import get_config\n",
    "import torchvision.models as models\n",
    "from cvt import generate_model\n",
    "from cvt_torch import get_cls_model\n",
    "model_name = 'CvT-13-224x224-IN-1k.pth'\n",
    "\n",
    "config=get_config('./config_cvt/config.yaml')\n",
    "paddle.set_device('cpu')\n",
    "paddle_model = generate_model(config)\n",
    "paddle_model.eval()\n",
    "\n",
    "\n",
    "device = torch.device('cpu')\n",
    "torch_model= get_cls_model(config)\n",
    "torch_model.load_state_dict= torch.load(model_name,map_location=torch.device('cpu'))\n",
    "\n",
    "torch_model = torch_model.to(device)\n",
    "torch_model.eval()\n",
    "file_debug=open('debug.txt','w')\n"
   ]
  },
  {
   "cell_type": "code",
   "execution_count": 2,
   "metadata": {},
   "outputs": [],
   "source": [
    "def torch_to_paddle_mapping(torch_model,paddle_model):\n",
    "    paddle_array=[]\n",
    "    torch_array=[]\n",
    "    for i,value in torch_model.state_dict().items():\n",
    "        torch_array.append((i,value.shape))\n",
    "\n",
    "    for i,value in paddle_model.state_dict().items():\n",
    "        paddle_array.append((i,value.shape))\n",
    "\n",
    "    j=0\n",
    "    mapping=[]\n",
    "    def equel(i,j):\n",
    "        x:str=torch_array[i][0]\n",
    "        y:str=paddle_array[j][0]\n",
    "        if x==y:\n",
    "            return True\n",
    "        x=x.replace('.bn.','.1.')\n",
    "        x=x.replace('.conv.','.0.')\n",
    "        x=x.replace('.running_mean','._mean')\n",
    "        x=x.replace('.running_var','._variance')\n",
    "        if x==y:\n",
    "            return True\n",
    "        else:\n",
    "            return False\n",
    "    for i in range(len(torch_array)):\n",
    "        if equel(i,j):\n",
    "            mapping.append((torch_array[i][0],paddle_array[j][0]))\n",
    "            j+=1\n",
    "    if len(mapping)!=len(paddle_array):\n",
    "        assert RuntimeError(f'mapping is not full,length of mapping is{len(mapping)},length of paddle_array is {len(paddle_array)}')\n",
    "    return mapping"
   ]
  },
  {
   "cell_type": "code",
   "execution_count": 3,
   "metadata": {},
   "outputs": [],
   "source": [
    "def convert(torch_model, paddle_model):\n",
    "    def _set_value(th_name, pd_name, transpose=True):\n",
    "        th_shape = th_params[th_name].shape\n",
    "        pd_shape = tuple(pd_params[pd_name].shape) \n",
    "\n",
    "        file_debug.write(f'**SET** {th_name} {th_shape} **TO** {pd_name} {pd_shape}')\n",
    "        file_debug.write('\\n')\n",
    "        if isinstance(th_params[th_name], torch.nn.parameter.Parameter):\n",
    "            value = th_params[th_name].data.numpy()\n",
    "        else:\n",
    "            value = th_params[th_name].numpy()\n",
    "\n",
    "        if len(value.shape) == 2 and transpose:\n",
    "            value = value.transpose((1, 0))\n",
    "        pd_params[pd_name].set_value(value)\n",
    "\n",
    "    # 1. get paddle and torch model parameters\n",
    "    pd_params = {}\n",
    "    th_params = {}\n",
    "    for name, param in paddle_model.named_parameters():\n",
    "        pd_params[name] = param\n",
    "    for name, param in torch_model.named_parameters():\n",
    "        th_params[name] = param\n",
    "\n",
    "    for name, param in paddle_model.named_buffers():\n",
    "        pd_params[name] = param\n",
    "    for name, param in torch_model.named_buffers():\n",
    "        th_params[name] = param\n",
    "\n",
    "    # 2. get name mapping pairs\n",
    "    mapping = torch_to_paddle_mapping(torch_model,paddle_model)\n",
    "\n",
    "    # 3. set torch param values to paddle params: may needs transpose on weights\n",
    "    for th_name, pd_name in mapping:\n",
    "        if th_name in th_params.keys(): # nn.Parameters\n",
    "            _set_value(th_name, pd_name)\n",
    "        else: # weight & bias\n",
    "            th_name_w = f'{th_name}.weight'\n",
    "            pd_name_w = f'{pd_name}.weight'\n",
    "            _set_value(th_name_w, pd_name_w)\n",
    "\n",
    "            if f'{th_name}.bias' in th_params.keys():\n",
    "                th_name_b = f'{th_name}.bias'\n",
    "                pd_name_b = f'{pd_name}.bias'\n",
    "                _set_value(th_name_b, pd_name_b)\n",
    "\n",
    "    return paddle_model\n"
   ]
  },
  {
   "cell_type": "code",
   "execution_count": 4,
   "metadata": {},
   "outputs": [],
   "source": [
    "# convert weights\n",
    "paddle_model = convert(torch_model, paddle_model)\n",
    "\n",
    "# check correctness\n",
    "x = np.random.randn(2, 3, 224, 224).astype('float32')\n",
    "x_paddle = paddle.to_tensor(x)\n",
    "x_torch = torch.Tensor(x).to(device)\n"
   ]
  },
  {
   "cell_type": "code",
   "execution_count": 5,
   "metadata": {},
   "outputs": [
    {
     "name": "stdout",
     "output_type": "stream",
     "text": [
      "tensor([[-1.1773, -0.6774, -0.7573, -1.3865, -0.0806, -0.5413,  0.1252, -0.3625,\n",
      "          0.5254, -1.2392, -0.3171, -1.8559,  0.2038,  0.1487],\n",
      "        [-0.1378, -1.5847, -0.6044,  0.6300, -1.3258, -2.8848, -1.9151, -2.0975,\n",
      "         -0.7097, -1.5312,  0.7107,  1.9582, -2.4988,  1.5837],\n",
      "        [-0.7401, -1.8067, -0.7765,  1.1386,  0.0215, -1.5315,  0.1295, -0.7527,\n",
      "         -0.9552, -0.7494, -1.5780, -0.2543, -0.2353, -1.2985],\n",
      "        [-1.5885, -0.7127,  0.3731, -1.5609,  2.2374, -0.0874, -0.2325, -0.7098,\n",
      "          1.4446,  1.7226, -0.9152,  0.4734,  2.4674, -1.7448],\n",
      "        [-0.6068,  0.4891,  0.1386, -1.0947, -0.3319,  2.3550,  0.2976,  0.1998,\n",
      "          0.0323, -0.2740, -0.5816, -0.7407,  0.2390, -0.5712]],\n",
      "       grad_fn=<SliceBackward0>)\n",
      "tensor([-0.0670,  1.3199, -0.9743,  0.9939, -1.0772], grad_fn=<SliceBackward0>)\n",
      "LayerNorm((384,), eps=1e-05, elementwise_affine=True)\n"
     ]
    }
   ],
   "source": [
    "\n",
    "out_torch = torch_model(x_torch)"
   ]
  },
  {
   "cell_type": "code",
   "execution_count": 6,
   "metadata": {},
   "outputs": [
    {
     "name": "stdout",
     "output_type": "stream",
     "text": [
      "Tensor(shape=[5, 14], dtype=float32, place=CPUPlace, stop_gradient=False,\n",
      "       [[-1.17422783, -0.67863894, -0.75977337, -1.38296187, -0.08453023,\n",
      "         -0.54227579,  0.12237574, -0.36927927,  0.51981890, -1.23737621,\n",
      "         -0.31640667, -1.86094725,  0.20431000,  0.14495680],\n",
      "        [-0.13842249, -1.58719802, -0.60550010,  0.63185263, -1.33303630,\n",
      "         -2.88414693, -1.91392028, -2.10013199, -0.71307099, -1.53035414,\n",
      "          0.70702964,  1.95371425, -2.50320244,  1.57943487],\n",
      "        [-0.74086303, -1.81200075, -0.77822685,  1.13973689,  0.02199420,\n",
      "         -1.53317940,  0.13101058, -0.75560260, -0.95734674, -0.75512314,\n",
      "         -1.57757545, -0.25386286, -0.23552293, -1.30169845],\n",
      "        [-1.58804917, -0.71441519,  0.37347370, -1.56388450,  2.23283029,\n",
      "         -0.08465839, -0.23329382, -0.71348417,  1.44600916,  1.71990228,\n",
      "         -0.91834116,  0.46952003,  2.46424270, -1.74293053],\n",
      "        [-0.60827297,  0.48698103,  0.13649459, -1.09423935, -0.33783397,\n",
      "          2.35964251,  0.30032071,  0.19525884,  0.03410980, -0.27920943,\n",
      "         -0.58044672, -0.74175489,  0.23328954, -0.57067674]])\n",
      "Tensor(shape=[5], dtype=float32, place=CPUPlace, stop_gradient=False,\n",
      "       [ 0.43393368, -0.90783948, -0.02651245, -0.02070370, -1.01891363])\n",
      "LayerNorm(normalized_shape=[384], epsilon=1e-05)\n"
     ]
    }
   ],
   "source": [
    "out_paddle = paddle_model(x_paddle)"
   ]
  },
  {
   "cell_type": "code",
   "execution_count": 7,
   "metadata": {},
   "outputs": [
    {
     "name": "stdout",
     "output_type": "stream",
     "text": [
      "Tensor(shape=[5, 14], dtype=float32, place=CPUPlace, stop_gradient=False,\n",
      "       [[-1.17422783, -0.67863894, -0.75977337, -1.38296187, -0.08453023,\n",
      "         -0.54227579,  0.12237574, -0.36927927,  0.51981890, -1.23737621,\n",
      "         -0.31640667, -1.86094725,  0.20431000,  0.14495680],\n",
      "        [-0.13842249, -1.58719802, -0.60550010,  0.63185263, -1.33303630,\n",
      "         -2.88414693, -1.91392028, -2.10013199, -0.71307099, -1.53035414,\n",
      "          0.70702964,  1.95371425, -2.50320244,  1.57943487],\n",
      "        [-0.74086303, -1.81200075, -0.77822685,  1.13973689,  0.02199420,\n",
      "         -1.53317940,  0.13101058, -0.75560260, -0.95734674, -0.75512314,\n",
      "         -1.57757545, -0.25386286, -0.23552293, -1.30169845],\n",
      "        [-1.58804917, -0.71441519,  0.37347370, -1.56388450,  2.23283029,\n",
      "         -0.08465839, -0.23329382, -0.71348417,  1.44600916,  1.71990228,\n",
      "         -0.91834116,  0.46952003,  2.46424270, -1.74293053],\n",
      "        [-0.60827297,  0.48698103,  0.13649459, -1.09423935, -0.33783397,\n",
      "          2.35964251,  0.30032071,  0.19525884,  0.03410980, -0.27920943,\n",
      "         -0.58044672, -0.74175489,  0.23328954, -0.57067674]])\n",
      "Tensor(shape=[5], dtype=float32, place=CPUPlace, stop_gradient=False,\n",
      "       [ 0.43393368, -0.90783948, -0.02651245, -0.02070370, -1.01891363])\n",
      "LayerNorm(normalized_shape=[384], epsilon=1e-05)\n"
     ]
    },
    {
     "ename": "AssertionError",
     "evalue": "",
     "output_type": "error",
     "traceback": [
      "\u001b[1;31m---------------------------------------------------------------------------\u001b[0m",
      "\u001b[1;31mAssertionError\u001b[0m                            Traceback (most recent call last)",
      "\u001b[1;32m~\\AppData\\Local\\Temp/ipykernel_16688/169347419.py\u001b[0m in \u001b[0;36m<module>\u001b[1;34m\u001b[0m\n\u001b[0;32m     15\u001b[0m \u001b[0mfile_debug\u001b[0m\u001b[1;33m.\u001b[0m\u001b[0mwrite\u001b[0m\u001b[1;33m(\u001b[0m\u001b[1;34m'\\n'\u001b[0m\u001b[1;33m)\u001b[0m\u001b[1;33m\u001b[0m\u001b[1;33m\u001b[0m\u001b[0m\n\u001b[0;32m     16\u001b[0m \u001b[1;33m\u001b[0m\u001b[0m\n\u001b[1;32m---> 17\u001b[1;33m \u001b[1;32massert\u001b[0m \u001b[0mnp\u001b[0m\u001b[1;33m.\u001b[0m\u001b[0mallclose\u001b[0m\u001b[1;33m(\u001b[0m\u001b[0mout_torch\u001b[0m\u001b[1;33m,\u001b[0m \u001b[0mout_paddle\u001b[0m\u001b[1;33m,\u001b[0m \u001b[0matol\u001b[0m \u001b[1;33m=\u001b[0m \u001b[1;36m1e-5\u001b[0m\u001b[1;33m)\u001b[0m\u001b[1;33m\u001b[0m\u001b[1;33m\u001b[0m\u001b[0m\n\u001b[0m\u001b[0;32m     18\u001b[0m \u001b[1;33m\u001b[0m\u001b[0m\n\u001b[0;32m     19\u001b[0m \u001b[1;31m# save weights for paddle model\u001b[0m\u001b[1;33m\u001b[0m\u001b[1;33m\u001b[0m\u001b[1;33m\u001b[0m\u001b[0m\n",
      "\u001b[1;31mAssertionError\u001b[0m: "
     ]
    }
   ],
   "source": [
    "\n",
    "\n",
    "\n",
    "\n",
    "out_paddle = paddle_model(x_paddle)\n",
    "\n",
    "out_torch = out_torch.data.cpu().numpy()\n",
    "out_paddle = out_paddle.cpu().numpy()\n",
    "\n",
    "file_debug.write(str(out_torch.shape))\n",
    "file_debug.write('\\n')\n",
    "file_debug.write( str(out_paddle.shape))\n",
    "file_debug.write('\\n')\n",
    "file_debug.write(str(out_torch[0, 0:100]))\n",
    "file_debug.write('\\n')\n",
    "file_debug.write('========================================================')\n",
    "file_debug.write('\\n')\n",
    "file_debug.write(str(out_paddle[0, 0:100]))\n",
    "file_debug.write('\\n')\n",
    "\n",
    "assert np.allclose(out_torch, out_paddle, atol = 1e-5)\n",
    "\n",
    "# save weights for paddle model\n",
    "model_path = os.path.join(f'./{model_name}.pdparams')\n",
    "paddle.save(paddle_model.state_dict(), model_path)\n",
    "file_debug.write('all done')\n"
   ]
  }
 ],
 "metadata": {
  "interpreter": {
   "hash": "632b173250d16d6f9b5bd55f86a0e0c96b37a21df53bd488615da0bb1f86a5c6"
  },
  "kernelspec": {
   "display_name": "Python 3.7.11 64-bit ('cvt': conda)",
   "language": "python",
   "name": "python3"
  },
  "language_info": {
   "codemirror_mode": {
    "name": "ipython",
    "version": 3
   },
   "file_extension": ".py",
   "mimetype": "text/x-python",
   "name": "python",
   "nbconvert_exporter": "python",
   "pygments_lexer": "ipython3",
   "version": "3.7.11"
  },
  "orig_nbformat": 4
 },
 "nbformat": 4,
 "nbformat_minor": 2
}
