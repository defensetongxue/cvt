{
 "cells": [
  {
   "cell_type": "code",
   "execution_count": 1,
   "metadata": {},
   "outputs": [
    {
     "name": "stdout",
     "output_type": "stream",
     "text": [
      "merging config from ./configs/cvt-13-224x224.yaml\n"
     ]
    },
    {
     "ename": "NameError",
     "evalue": "name 'os' is not defined",
     "output_type": "error",
     "traceback": [
      "\u001b[1;31m---------------------------------------------------------------------------\u001b[0m",
      "\u001b[1;31mNameError\u001b[0m                                 Traceback (most recent call last)",
      "\u001b[1;32m~\\AppData\\Local\\Temp/ipykernel_2796/1921319928.py\u001b[0m in \u001b[0;36m<module>\u001b[1;34m\u001b[0m\n\u001b[0;32m     13\u001b[0m \u001b[0mconfig\u001b[0m\u001b[1;33m=\u001b[0m\u001b[0mget_config\u001b[0m\u001b[1;33m(\u001b[0m\u001b[1;34m'./configs/cvt-13-224x224.yaml'\u001b[0m\u001b[1;33m)\u001b[0m\u001b[1;33m\u001b[0m\u001b[1;33m\u001b[0m\u001b[0m\n\u001b[0;32m     14\u001b[0m \u001b[0mpaddle\u001b[0m\u001b[1;33m.\u001b[0m\u001b[0mset_device\u001b[0m\u001b[1;33m(\u001b[0m\u001b[1;34m'cpu'\u001b[0m\u001b[1;33m)\u001b[0m\u001b[1;33m\u001b[0m\u001b[1;33m\u001b[0m\u001b[0m\n\u001b[1;32m---> 15\u001b[1;33m \u001b[0mpaddle_model\u001b[0m \u001b[1;33m=\u001b[0m \u001b[0mbuild_cvt\u001b[0m\u001b[1;33m(\u001b[0m\u001b[0mconfig\u001b[0m\u001b[1;33m)\u001b[0m\u001b[1;33m\u001b[0m\u001b[1;33m\u001b[0m\u001b[0m\n\u001b[0m\u001b[0;32m     16\u001b[0m \u001b[0mpaddle_model\u001b[0m\u001b[1;33m.\u001b[0m\u001b[0meval\u001b[0m\u001b[1;33m(\u001b[0m\u001b[1;33m)\u001b[0m\u001b[1;33m\u001b[0m\u001b[1;33m\u001b[0m\u001b[0m\n\u001b[0;32m     17\u001b[0m \u001b[1;33m\u001b[0m\u001b[0m\n",
      "\u001b[1;32mc:\\Users\\guoyi\\Desktop\\cvt\\cvt.py\u001b[0m in \u001b[0;36mbuild_cvt\u001b[1;34m(config)\u001b[0m\n\u001b[0;32m    676\u001b[0m             \u001b[0mconfig\u001b[0m\u001b[1;33m.\u001b[0m\u001b[0mMODEL\u001b[0m\u001b[1;33m.\u001b[0m\u001b[0mPRETRAINED\u001b[0m\u001b[1;33m,\u001b[0m\u001b[1;33m\u001b[0m\u001b[1;33m\u001b[0m\u001b[0m\n\u001b[0;32m    677\u001b[0m             \u001b[0mconfig\u001b[0m\u001b[1;33m.\u001b[0m\u001b[0mMODEL\u001b[0m\u001b[1;33m.\u001b[0m\u001b[0mPRETRAINED_LAYERS\u001b[0m\u001b[1;33m,\u001b[0m\u001b[1;33m\u001b[0m\u001b[1;33m\u001b[0m\u001b[0m\n\u001b[1;32m--> 678\u001b[1;33m             \u001b[0mconfig\u001b[0m\u001b[1;33m.\u001b[0m\u001b[0mVERBOSE\u001b[0m\u001b[1;33m\u001b[0m\u001b[1;33m\u001b[0m\u001b[0m\n\u001b[0m\u001b[0;32m    679\u001b[0m         )\n\u001b[0;32m    680\u001b[0m     \u001b[1;32mreturn\u001b[0m \u001b[0mmodel\u001b[0m\u001b[1;33m\u001b[0m\u001b[1;33m\u001b[0m\u001b[0m\n",
      "\u001b[1;32mc:\\Users\\guoyi\\Desktop\\cvt\\cvt.py\u001b[0m in \u001b[0;36minit_weights\u001b[1;34m(self, pretrained, pretrained_layers, verbose)\u001b[0m\n\u001b[0;32m    586\u001b[0m \u001b[1;33m\u001b[0m\u001b[0m\n\u001b[0;32m    587\u001b[0m     \u001b[1;32mdef\u001b[0m \u001b[0minit_weights\u001b[0m\u001b[1;33m(\u001b[0m\u001b[0mself\u001b[0m\u001b[1;33m,\u001b[0m \u001b[0mpretrained\u001b[0m\u001b[1;33m=\u001b[0m\u001b[1;34m''\u001b[0m\u001b[1;33m,\u001b[0m \u001b[0mpretrained_layers\u001b[0m\u001b[1;33m=\u001b[0m\u001b[1;33m[\u001b[0m\u001b[1;33m]\u001b[0m\u001b[1;33m,\u001b[0m \u001b[0mverbose\u001b[0m\u001b[1;33m=\u001b[0m\u001b[1;32mTrue\u001b[0m\u001b[1;33m)\u001b[0m\u001b[1;33m:\u001b[0m\u001b[1;33m\u001b[0m\u001b[1;33m\u001b[0m\u001b[0m\n\u001b[1;32m--> 588\u001b[1;33m         \u001b[1;32mif\u001b[0m \u001b[0mos\u001b[0m\u001b[1;33m.\u001b[0m\u001b[0mpath\u001b[0m\u001b[1;33m.\u001b[0m\u001b[0misfile\u001b[0m\u001b[1;33m(\u001b[0m\u001b[0mpretrained\u001b[0m\u001b[1;33m)\u001b[0m\u001b[1;33m:\u001b[0m\u001b[1;33m\u001b[0m\u001b[1;33m\u001b[0m\u001b[0m\n\u001b[0m\u001b[0;32m    589\u001b[0m             \u001b[0mpretrained_dict\u001b[0m \u001b[1;33m=\u001b[0m \u001b[0mpaddle\u001b[0m\u001b[1;33m.\u001b[0m\u001b[0mload\u001b[0m\u001b[1;33m(\u001b[0m\u001b[0mpretrained\u001b[0m\u001b[1;33m,\u001b[0m \u001b[0mmap_location\u001b[0m\u001b[1;33m=\u001b[0m\u001b[1;34m'cpu'\u001b[0m\u001b[1;33m)\u001b[0m\u001b[1;33m\u001b[0m\u001b[1;33m\u001b[0m\u001b[0m\n\u001b[0;32m    590\u001b[0m             \u001b[0mlogging\u001b[0m\u001b[1;33m.\u001b[0m\u001b[0minfo\u001b[0m\u001b[1;33m(\u001b[0m\u001b[1;34mf'=> loading pretrained model {pretrained}'\u001b[0m\u001b[1;33m)\u001b[0m\u001b[1;33m\u001b[0m\u001b[1;33m\u001b[0m\u001b[0m\n",
      "\u001b[1;31mNameError\u001b[0m: name 'os' is not defined"
     ]
    }
   ],
   "source": [
    "\n",
    "import numpy as np\n",
    "import paddle\n",
    "import torch\n",
    "import os\n",
    "from config_torch.default import get_config_torch\n",
    "import torchvision.models as models\n",
    "from cvt import build_cvt\n",
    "from cvt_torch import get_cls_model\n",
    "from config import get_config\n",
    "\n",
    "model_name = 'CvT-13-224x224-IN-1k.pth'\n",
    "\n",
    "config=get_config('./configs/cvt-13-224x224.yaml')\n",
    "paddle.set_device('cpu')\n",
    "paddle_model = build_cvt(config)\n",
    "paddle_model.eval()\n",
    "\n",
    "config=get_config_torch('./config_torch/config.yaml')\n",
    "device = torch.device('cpu')\n",
    "torch_model= get_cls_model(config)\n",
    "torch_model.load_state_dict= torch.load(model_name,map_location=torch.device('cpu'))\n",
    "\n",
    "torch_model = torch_model.to(device)\n",
    "torch_model.eval()\n",
    "file_debug=open('debug.txt','w')\n",
    "\n",
    "x = np.random.randn(2, 3, 224, 224).astype('float32')\n",
    "x_paddle = paddle.to_tensor(x)\n",
    "x_torch = torch.Tensor(x)\n",
    "paddle.set_printoptions(4)\n",
    "torch.set_printoptions(4)\n"
   ]
  },
  {
   "cell_type": "code",
   "execution_count": null,
   "metadata": {},
   "outputs": [],
   "source": [
    "def torch_to_paddle_mapping(torch_model,paddle_model):\n",
    "    paddle_array=[]\n",
    "    torch_array=[]\n",
    "    for i,value in torch_model.state_dict().items():\n",
    "        torch_array.append((i,value.shape))\n",
    "        #file_torch.write(str(tuple((i,value.shape))))\n",
    "        #file_torch.write('\\n')\n",
    "    for i,value in paddle_model.state_dict().items():\n",
    "        paddle_array.append((i,value.shape))\n",
    "        #file_paddle.write(str(tuple(((i,value.shape)))))\n",
    "        #file_paddle.write('\\n')\n",
    "    j=0\n",
    "    mapping=[]\n",
    "    mapping.append(('stage2.cls_token',  'stage2.cls_token'))\n",
    "    def equel(i,j):\n",
    "        x:str=torch_array[i][0]\n",
    "        y:str=paddle_array[j][0]\n",
    "        if x==y:\n",
    "            return True\n",
    "        x=x.replace('.bn.','.1.')\n",
    "        x=x.replace('.conv.','.0.')\n",
    "        x=x.replace('.running_mean','._mean')\n",
    "        x=x.replace('.running_var','._variance')\n",
    "        if x==y:\n",
    "            return True\n",
    "        else:\n",
    "            return False\n",
    "    for i in range(len(torch_array)):\n",
    "        if equel(i,j):\n",
    "            mapping.append((torch_array[i][0],paddle_array[j][0]))\n",
    "            j+=1\n",
    "    if len(mapping)!=len(paddle_array):\n",
    "        assert RuntimeError(f'mapping is not full,length of mapping is{len(mapping)},length of paddle_array is {len(paddle_array)}')\n",
    "    return mapping"
   ]
  },
  {
   "cell_type": "code",
   "execution_count": null,
   "metadata": {},
   "outputs": [],
   "source": [
    "def convert(torch_model, paddle_model):\n",
    "    def _set_value(th_name, pd_name, transpose=True):\n",
    "        th_shape = th_params[th_name].shape\n",
    "        pd_shape = tuple(pd_params[pd_name].shape) \n",
    "        if isinstance(th_params[th_name], torch.nn.parameter.Parameter):\n",
    "            value = th_params[th_name].data.numpy()\n",
    "        else:\n",
    "            value = th_params[th_name].numpy()\n",
    "\n",
    "        if len(value.shape) == 2 and transpose:\n",
    "            value = value.transpose((1, 0))\n",
    "        pd_params[pd_name].set_value(value)\n",
    "\n",
    "    # 1. get paddle and torch model parameters\n",
    "    pd_params = {}\n",
    "    th_params = {}\n",
    "    for name, param in paddle_model.named_parameters():\n",
    "        pd_params[name] = param\n",
    "    for name, param in torch_model.named_parameters():\n",
    "        th_params[name] = param\n",
    "\n",
    "    for name, param in paddle_model.named_buffers():\n",
    "        pd_params[name] = param\n",
    "    for name, param in torch_model.named_buffers():\n",
    "        th_params[name] = param\n",
    "\n",
    "    # 2. get name mapping pairs\n",
    "    mapping = torch_to_paddle_mapping(torch_model,paddle_model)\n",
    "\n",
    "    # 3. set torch param values to paddle params: may needs transpose on weights\n",
    "    for th_name, pd_name in mapping:\n",
    "        if th_name in th_params.keys(): # nn.Parameters\n",
    "            _set_value(th_name, pd_name)\n",
    "        else: # weight & bias\n",
    "            th_name_w = f'{th_name}.weight'\n",
    "            pd_name_w = f'{pd_name}.weight'\n",
    "            _set_value(th_name_w, pd_name_w)\n",
    "\n",
    "            if f'{th_name}.bias' in th_params.keys():\n",
    "                th_name_b = f'{th_name}.bias'\n",
    "                pd_name_b = f'{pd_name}.bias'\n",
    "                _set_value(th_name_b, pd_name_b)\n",
    "\n",
    "    return paddle_model\n"
   ]
  },
  {
   "cell_type": "code",
   "execution_count": null,
   "metadata": {},
   "outputs": [],
   "source": [
    "paddle_model = convert(torch_model, paddle_model)\n",
    "out_torch = torch_model(x_torch)\n",
    "out_paddle = paddle_model(x_paddle)"
   ]
  },
  {
   "cell_type": "code",
   "execution_count": null,
   "metadata": {},
   "outputs": [
    {
     "data": {
      "text/plain": [
       "tensor([[ 0.4982, -0.2939, -0.5168,  ...,  0.4643, -0.2246,  0.0958],\n",
       "        [ 0.4802,  0.0837, -0.5826,  ...,  0.6033, -0.3382,  0.2517]],\n",
       "       grad_fn=<AddmmBackward0>)"
      ]
     },
     "execution_count": 5,
     "metadata": {},
     "output_type": "execute_result"
    }
   ],
   "source": [
    "out_torch"
   ]
  },
  {
   "cell_type": "code",
   "execution_count": null,
   "metadata": {},
   "outputs": [
    {
     "data": {
      "text/plain": [
       "Tensor(shape=[2, 1000], dtype=float32, place=CPUPlace, stop_gradient=False,\n",
       "       [[ 0.4982, -0.2939, -0.5168, ...,  0.4643, -0.2246,  0.0958],\n",
       "        [ 0.4802,  0.0837, -0.5826, ...,  0.6033, -0.3382,  0.2517]])"
      ]
     },
     "execution_count": 6,
     "metadata": {},
     "output_type": "execute_result"
    }
   ],
   "source": [
    "out_paddle"
   ]
  },
  {
   "cell_type": "code",
   "execution_count": null,
   "metadata": {},
   "outputs": [
    {
     "data": {
      "text/plain": [
       "8"
      ]
     },
     "execution_count": 7,
     "metadata": {},
     "output_type": "execute_result"
    }
   ],
   "source": [
    "\n",
    "out_torch = out_torch.data.cpu().numpy()\n",
    "out_paddle = out_paddle.cpu().numpy()\n",
    "\n",
    "file_debug.write(str(out_torch.shape))\n",
    "file_debug.write('\\n')\n",
    "file_debug.write( str(out_paddle.shape))\n",
    "file_debug.write('\\n')\n",
    "file_debug.write(str(out_torch[0, 0:100]))\n",
    "file_debug.write('\\n')\n",
    "file_debug.write('========================================================')\n",
    "file_debug.write('\\n')\n",
    "file_debug.write(str(out_paddle[0, 0:100]))\n",
    "file_debug.write('\\n')\n",
    "\n",
    "assert np.allclose(out_torch, out_paddle, atol = 1e-2)\n",
    "\n",
    "# save weights for paddle model\n",
    "model_path = os.path.join(f'./{model_name}.pdparams')\n",
    "paddle.save(paddle_model.state_dict(), model_path)\n",
    "file_debug.write('all done')\n"
   ]
  }
 ],
 "metadata": {
  "interpreter": {
   "hash": "632b173250d16d6f9b5bd55f86a0e0c96b37a21df53bd488615da0bb1f86a5c6"
  },
  "kernelspec": {
   "display_name": "Python 3.7.11 64-bit ('cvt': conda)",
   "language": "python",
   "name": "python3"
  },
  "language_info": {
   "codemirror_mode": {
    "name": "ipython",
    "version": 3
   },
   "file_extension": ".py",
   "mimetype": "text/x-python",
   "name": "python",
   "nbconvert_exporter": "python",
   "pygments_lexer": "ipython3",
   "version": "3.7.11"
  },
  "orig_nbformat": 4
 },
 "nbformat": 4,
 "nbformat_minor": 2
}
